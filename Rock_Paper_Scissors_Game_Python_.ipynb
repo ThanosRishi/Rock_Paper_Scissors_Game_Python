{
  "nbformat": 4,
  "nbformat_minor": 0,
  "metadata": {
    "colab": {
      "provenance": []
    },
    "kernelspec": {
      "name": "python3",
      "display_name": "Python 3"
    },
    "language_info": {
      "name": "python"
    }
  },
  "cells": [
    {
      "cell_type": "markdown",
      "source": [
        "# Rock Paper Scissors\n",
        "The goal of the rock-paper-scissor Python project is to create a single-player computer game that can be played at any time or place. This project is based on the following guidelines:\n",
        "\n",
        "* Rock defeats scissors by blunting them.\n",
        "* scissors successfully sliced the paper.\n",
        "* Paper beats rock because of this.\n",
        "\n",
        "Players must select one of the three options in this Python project: rock, paper, or scissors."
      ],
      "metadata": {
        "id": "QzrDJq23Hr97"
      }
    },
    {
      "cell_type": "code",
      "source": [
        "import random"
      ],
      "metadata": {
        "id": "EBEq99gCIJfM"
      },
      "execution_count": 17,
      "outputs": []
    },
    {
      "cell_type": "code",
      "source": [
        "user_pick = input()\n",
        "\n",
        "comp_pick = random.randint(1,3)\n",
        "if comp_pick == 1:\n",
        "    comp_pick = 'rock'\n",
        "elif comp_pick ==2:\n",
        "    comp_pick = 'paper'\n",
        "else:\n",
        "    comp_pick = 'scissors'\n",
        "\n",
        "\n",
        "if user_pick == comp_pick:\n",
        "    print('tie,you both select same')\n",
        "elif user_pick == 'rock' and comp_pick == 'paper':\n",
        "    print('you loose,computer select paper')\n",
        "elif user_pick == 'rock' and comp_pick == 'scissors':\n",
        "    print('you win,computer select scissors')\n",
        "elif user_pick == 'paper' and comp_pick == 'scissors':\n",
        "    print('you loose,computer select scissors')\n",
        "elif user_pick == 'paper' and comp_pick == 'rock':\n",
        "    print('you win,computer select rock')\n",
        "elif user_pick == 'scissors' and comp_pick == 'rock':\n",
        "    print('you loose,computer select rock')\n",
        "elif user_pick == 'scissors' and comp_pick == 'paper':\n",
        "    print('you win ,computer select paper')\n",
        "else:\n",
        "    print('invalid: choose any one -- rock, paper, scissors')"
      ],
      "metadata": {
        "colab": {
          "base_uri": "https://localhost:8080/"
        },
        "id": "EUUzxKSUISeB",
        "outputId": "e2179f3a-7131-4d79-c627-4368a78e8b59"
      },
      "execution_count": 19,
      "outputs": [
        {
          "output_type": "stream",
          "name": "stdout",
          "text": [
            "rock\n",
            "you win,computer select scissors\n"
          ]
        }
      ]
    }
  ]
}